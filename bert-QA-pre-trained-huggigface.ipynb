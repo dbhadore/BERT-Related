{
 "cells": [
  {
   "cell_type": "markdown",
   "id": "d3855f64",
   "metadata": {},
   "source": [
    "## Use Hugging Face pre-trained BERT QA model"
   ]
  },
  {
   "cell_type": "code",
   "execution_count": 1,
   "id": "86d8c468",
   "metadata": {},
   "outputs": [],
   "source": [
    "#!pip install transformers"
   ]
  },
  {
   "cell_type": "code",
   "execution_count": 2,
   "id": "837ed376",
   "metadata": {},
   "outputs": [],
   "source": [
    "import pandas as pd\n",
    "import numpy as np\n",
    "import torch\n",
    "from transformers import BertForQuestionAnswering\n",
    "from transformers import BertTokenizer"
   ]
  },
  {
   "cell_type": "markdown",
   "id": "6dd19f33",
   "metadata": {},
   "source": [
    "Load pre-trained model traing on sqaud data"
   ]
  },
  {
   "cell_type": "code",
   "execution_count": 3,
   "id": "45941478",
   "metadata": {},
   "outputs": [],
   "source": [
    "model = BertForQuestionAnswering.from_pretrained('bert-large-uncased-whole-word-masking-finetuned-squad')\n",
    "tokenizer = BertTokenizer.from_pretrained('bert-large-uncased-whole-word-masking-finetuned-squad')"
   ]
  },
  {
   "cell_type": "markdown",
   "id": "6a7921f0",
   "metadata": {},
   "source": [
    "QA Method"
   ]
  },
  {
   "cell_type": "code",
   "execution_count": 4,
   "id": "b10982b7",
   "metadata": {},
   "outputs": [],
   "source": [
    "def question_answer(question, text):\n",
    "    \n",
    "    #tokenize question and text as a pair\n",
    "    input_ids = tokenizer.encode(question, text)\n",
    "    \n",
    "    #string version of tokenized ids\n",
    "    tokens = tokenizer.convert_ids_to_tokens(input_ids)\n",
    "    \n",
    "    #segment IDs\n",
    "    #first occurence of [SEP] token\n",
    "    sep_idx = input_ids.index(tokenizer.sep_token_id)\n",
    "    #number of tokens in segment A (question)\n",
    "    num_seg_a = sep_idx+1\n",
    "    #number of tokens in segment B (text)\n",
    "    num_seg_b = len(input_ids) - num_seg_a\n",
    "    \n",
    "    #list of 0s and 1s for segment embeddings\n",
    "    segment_ids = [0]*num_seg_a + [1]*num_seg_b\n",
    "    assert len(segment_ids) == len(input_ids)\n",
    "    \n",
    "    #model output using input_ids and segment_ids\n",
    "    output = model(torch.tensor([input_ids]), token_type_ids=torch.tensor([segment_ids]))\n",
    "    \n",
    "    #reconstructing the answer\n",
    "    answer_start = torch.argmax(output.start_logits)\n",
    "    answer_end = torch.argmax(output.end_logits)\n",
    "    if answer_end >= answer_start:\n",
    "        answer = tokens[answer_start]\n",
    "        for i in range(answer_start+1, answer_end+1):\n",
    "            if tokens[i][0:2] == \"##\":\n",
    "                answer += tokens[i][2:]\n",
    "            else:\n",
    "                answer += \" \" + tokens[i]\n",
    "                \n",
    "    if answer.startswith(\"[CLS]\"):\n",
    "        answer = \"Unable to find the answer to your question.\"\n",
    "    \n",
    "    print(\"\\nPredicted answer:\\n{}\".format(answer.capitalize()))"
   ]
  },
  {
   "cell_type": "markdown",
   "id": "64a5a030",
   "metadata": {},
   "source": [
    "Test Model"
   ]
  },
  {
   "cell_type": "code",
   "execution_count": 7,
   "id": "8d3687e0",
   "metadata": {},
   "outputs": [
    {
     "name": "stdout",
     "output_type": "stream",
     "text": [
      "Please enter your text: \n",
      "Indian boxer Satish Kumar lost by a unanimous decision against Bakhodir Jalolov of Uzbekistan in the men's Super Heavy (+91kg) category quarterfinal today. In equestrian, India's Fouaad Mirza and Seigneur Medicott were at the 22nd position with a total penalty points of 39.20. The eventing, jumping Qualifiers will be held on August 2. Golfer Anirban Lahiri ended Round 4 playing 5 under par (-5) while Udayan Mane finished Round 4 with playing 3 over par (+3). Other Indians in action on Sunday, August 1 at the Tokyo Olympics include shuttler PV Sindhu and the men's hockey team. Sindhu will play for the bronze medal after facing defeat in the semi-final match on Saturday. The men's hockey team will take on Great Britain with the hope of making the last four.  World number one tennis player Novak Djokovic of Serbia went down in three sets to Spain's Pablo Carreno Busta in the bronze medal match of men's tennis singles event yesterday while China's Ma Long became the first table tennis player in Olympic history to win back-to-back men's singles gold.\n",
      "\n",
      "Please enter your question: \n",
      "Who is world number one tennis player?\n",
      "\n",
      "Predicted answer:\n",
      "Novak djokovic\n",
      "\n",
      "Do you want to ask another question based on this text (Y/N)? when is PV Sindhu's match?\n",
      "\n",
      "Do you want to ask another question based on this text (Y/N)? Y\n",
      "\n",
      "Please enter your question: \n",
      "when is PV Sindhu's match?\n",
      "\n",
      "Predicted answer:\n",
      "Sunday , august 1\n",
      "\n",
      "Do you want to ask another question based on this text (Y/N)? Y\n",
      "\n",
      "Please enter your question: \n",
      "To whom boxer Satish Kumar lost the game?\n",
      "\n",
      "Predicted answer:\n",
      "Bakhodir jalolov\n",
      "\n",
      "Do you want to ask another question based on this text (Y/N)? N\n",
      "\n",
      "Bye!\n"
     ]
    }
   ],
   "source": [
    "text = input(\"Please enter your text: \\n\")\n",
    "question = input(\"\\nPlease enter your question: \\n\")\n",
    "while True:\n",
    "    question_answer(question, text)\n",
    "    \n",
    "    flag = True\n",
    "    flag_N = False\n",
    "    \n",
    "    while flag:\n",
    "        response = input(\"\\nDo you want to ask another question based on this text (Y/N)? \")\n",
    "        if response[0] == \"Y\":\n",
    "            question = input(\"\\nPlease enter your question: \\n\")\n",
    "            flag = False\n",
    "        elif response[0] == \"N\":\n",
    "            print(\"\\nBye!\")\n",
    "            flag = False\n",
    "            flag_N = True\n",
    "            \n",
    "    if flag_N == True:\n",
    "        break"
   ]
  },
  {
   "cell_type": "code",
   "execution_count": null,
   "id": "323af596",
   "metadata": {},
   "outputs": [],
   "source": []
  }
 ],
 "metadata": {
  "kernelspec": {
   "display_name": "Python 3",
   "language": "python",
   "name": "python3"
  },
  "language_info": {
   "codemirror_mode": {
    "name": "ipython",
    "version": 3
   },
   "file_extension": ".py",
   "mimetype": "text/x-python",
   "name": "python",
   "nbconvert_exporter": "python",
   "pygments_lexer": "ipython3",
   "version": "3.8.8"
  }
 },
 "nbformat": 4,
 "nbformat_minor": 5
}
